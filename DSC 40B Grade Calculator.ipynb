{
 "cells": [
  {
   "cell_type": "markdown",
   "metadata": {},
   "source": [
    "# DSC 40B Grade Calculator"
   ]
  },
  {
   "cell_type": "code",
   "execution_count": 48,
   "metadata": {},
   "outputs": [],
   "source": [
    "import numpy as np\n",
    "import math"
   ]
  },
  {
   "cell_type": "code",
   "execution_count": 49,
   "metadata": {},
   "outputs": [],
   "source": [
    "midtermOne = 0\n",
    "midtermTwo = 0\n",
    "\n",
    "homeworkOne = 0\n",
    "homeworkTwo = 0\n",
    "homeworkThree = 0\n",
    "homeworkFour = 0\n",
    "homeworkFive = 0\n",
    "homeworkSix = 0\n",
    "homeworkSeven = 0\n",
    "homeworkEight = 0\n",
    "superHomework = 0\n",
    "#replace the zeros with your grades, add programming points with homework points\n",
    "\n"
   ]
  },
  {
   "cell_type": "code",
   "execution_count": 50,
   "metadata": {},
   "outputs": [
    {
     "name": "stdout",
     "output_type": "stream",
     "text": [
      "Your homework average was: 0.0\n",
      "Your midterm one was: 0.0\n",
      "Your midterm two was: 0.0\n",
      "Your super homework grade was: 0.0\n",
      "Your final grade: 0.0\n"
     ]
    }
   ],
   "source": [
    "#DO NOT MODIFY\n",
    "midtermOne = midtermOne/25\n",
    "midtermTwo = midtermTwo/27\n",
    "homeworkOne = homeworkOne/34\n",
    "homeworkTwo = homeworkTwo/29\n",
    "homeworkThree = homeworkThree/33\n",
    "homeworkFour = homeworkFour/22\n",
    "homeworkFive = homeworkFive/12\n",
    "homeworkSix = homeworkSix/25\n",
    "homeworkSeven = homeworkSeven/20\n",
    "homeworkEight = homeworkEight/12\n",
    "superHomework = superHomework/10\n",
    "#HOMEWORK 7 and 8 HAVE NOT BEEN GRADED SO THIS MAY CHANGE\n",
    "#SUPER HOMEWORK NOT OUT YET\n",
    "\n",
    "midtermOnePercent = midtermOne * 25\n",
    "midtermTwoPercent = midtermTwo * 25\n",
    "\n",
    "droppedHW = min([homeworkOne, homeworkTwo, homeworkThree, homeworkFour, homeworkFive, homeworkSix, homeworkSeven, homeworkEight])\n",
    "homeworks = [homeworkOne, homeworkTwo, homeworkThree, homeworkFour, homeworkFive, homeworkSix, homeworkSeven, homeworkEight]\n",
    "homeworks.remove(droppedHW)\n",
    "\n",
    "homeworkPercent = np.mean(homeworks)*40\n",
    "\n",
    "superHomeworkPercent = superHomework * 10\n",
    "\n",
    "grade = midtermOnePercent + midtermTwoPercent + homeworkPercent + superHomeworkPercent\n",
    "print(\"Your homework average was: \" + str(np.mean(homeworks)*100) + \"\\nYour midterm one was: \" + str(midtermOne*100) \n",
    "      + \"\\nYour midterm two was: \" + str(midtermTwo*100) + \"\\nYour super homework grade was: \" + str(superHomework*100) + \"\\nYour final grade: \" + str(grade))"
   ]
  }
 ],
 "metadata": {
  "kernelspec": {
   "display_name": "Python 3",
   "language": "python",
   "name": "python3"
  },
  "language_info": {
   "codemirror_mode": {
    "name": "ipython",
    "version": 3
   },
   "file_extension": ".py",
   "mimetype": "text/x-python",
   "name": "python",
   "nbconvert_exporter": "python",
   "pygments_lexer": "ipython3",
   "version": "3.8.6"
  }
 },
 "nbformat": 4,
 "nbformat_minor": 4
}
